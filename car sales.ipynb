{
 "cells": [
  {
   "cell_type": "code",
   "execution_count": 1,
   "metadata": {},
   "outputs": [
    {
     "name": "stdout",
     "output_type": "stream",
     "text": [
      "Customer One Items:\n",
      "\n",
      "Stylish Settee. Faux leather on seats. 29.50 inches high x 54.75 inches wide x 28 inches deep. grey.  \n",
      "Stylish Settee. Faux leather on seats. 29.50 inches high x 54.75 inches wide x 28 inches deep. grey \n",
      "Customer One Total:\n",
      "165000.088\n"
     ]
    }
   ],
   "source": [
    "mercedes_s550_description = \"\"\"\n",
    "Tufted polyester blend on wood. 32 inch rims high x 198 inches wide x 20 inches dep. black and silver\n",
    "\"\"\"\n",
    "mercedes_s550_price = 115000.00\n",
    "bmw_m6_description = \"\"\"\n",
    "Stylish Settee. Faux leather on seats. 29.50 inches high x 54.75 inches wide x 28 inches deep. grey.\n",
    "\"\"\"\n",
    "bmw_m6_price = 50000.00\n",
    "nissanaltima_35sr_description = \"\"\"\n",
    "2012 grey coupe. Black leather seats. 14 inch rims. 3.5L type engine \"\"\"\n",
    "nissanaltima_lamp_price= 16000.00\n",
    "sales_tax = .088\n",
    "customer_one_total = 0\n",
    "customer_one_itemization = \"\"\n",
    "customer_one_total += 115000.00\n",
    "customer_one_itemization += \"\"\"\n",
    "Stylish Settee. Faux leather on seats. 29.50 inches high x 54.75 inches wide x 28 inches deep. grey. \"\"\"\n",
    "customer_one_total += 50000.00\n",
    "customer_one_itemization += \"\"\" \n",
    "Stylish Settee. Faux leather on seats. 29.50 inches high x 54.75 inches wide x 28 inches deep. grey \"\"\"\n",
    "customer_one_tax = customer_one_total * sales_tax\n",
    "customer_one_total += sales_tax\n",
    "print(\"Customer One Items:\")\n",
    "print (customer_one_itemization)\n",
    "print(\"Customer One Total:\")\n",
    "print (customer_one_total)"
   ]
  },
  {
   "cell_type": "code",
   "execution_count": null,
   "metadata": {},
   "outputs": [],
   "source": []
  }
 ],
 "metadata": {
  "kernelspec": {
   "display_name": "Python 3",
   "language": "python",
   "name": "python3"
  },
  "language_info": {
   "codemirror_mode": {
    "name": "ipython",
    "version": 3
   },
   "file_extension": ".py",
   "mimetype": "text/x-python",
   "name": "python",
   "nbconvert_exporter": "python",
   "pygments_lexer": "ipython3",
   "version": "3.8.5"
  }
 },
 "nbformat": 4,
 "nbformat_minor": 4
}
